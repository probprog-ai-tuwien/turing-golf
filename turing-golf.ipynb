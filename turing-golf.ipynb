{
 "cells": [
  {
   "cell_type": "code",
   "execution_count": null,
   "id": "740b5f9a-30ba-42df-8678-b343cc5c892c",
   "metadata": {
    "nbgrader": {
     "grade": false,
     "grade_id": "cell-75cb19c5cfe400cf",
     "locked": true,
     "schema_version": 3,
     "solution": false,
     "task": false
    },
    "tags": []
   },
   "outputs": [],
   "source": [
    "# Running this cell for the fist time may take a while\n",
    "# Packages will be precompiled\n",
    "using Turing\n",
    "import ForwardDiff\n",
    "import PyPlot\n",
    "using PyCall\n",
    "\n",
    "plt = pyimport(\"matplotlib.pyplot\");\n",
    "plt_image = pyimport(\"matplotlib.image\");\n",
    "plt_box = pyimport(\"matplotlib.offsetbox\");\n",
    "plt_cm = pyimport(\"matplotlib.cm\");\n",
    "np = pyimport(\"numpy\");\n",
    "\n",
    "include(\"utils.jl\");"
   ]
  },
  {
   "cell_type": "markdown",
   "id": "e5ae1032-0623-4280-badc-9243215450e7",
   "metadata": {},
   "source": [
    "# The Power of Probabilistic Programming"
   ]
  },
  {
   "cell_type": "markdown",
   "id": "7b965012-192f-4d0b-9f57-81315a634317",
   "metadata": {},
   "source": [
    "## Scenario:\n",
    "\n",
    "1. **We have existing physics simulation.**\n",
    "2. **We have some unknown parameters of the simulation.**\n",
    "3. **We want to use Bayesian statistics to infer those unknowns.**"
   ]
  },
  {
   "cell_type": "markdown",
   "id": "d603d8f6-afdb-4edc-8f72-f1ff79e1a65d",
   "metadata": {},
   "source": [
    "## The Environment:\n",
    "\n",
    "A golf course which has\n",
    "- a player position\n",
    "- a target hole position\n",
    "- a pond position"
   ]
  },
  {
   "cell_type": "code",
   "execution_count": null,
   "id": "29f54d56-1b6c-4d1a-8a95-954e0c7a5e50",
   "metadata": {
    "nbgrader": {
     "grade": false,
     "grade_id": "cell-83a678d9609d339a",
     "locked": true,
     "schema_version": 3,
     "solution": false,
     "task": false
    },
    "tags": []
   },
   "outputs": [],
   "source": [
    "struct GolfCourse\n",
    "    player_x::Float64\n",
    "    hole_x::Float64\n",
    "    pond_x::Float64\n",
    "    function GolfCourse(;player_x::Float64, hole_x::Float64, pond_x::Float64)\n",
    "        return new(player_x, hole_x, pond_x)\n",
    "    end\n",
    "end\n",
    "\n",
    "pond_x0(course::GolfCourse) = course.pond_x - 0.95\n",
    "pond_x1(course::GolfCourse) = course.pond_x + 0.9 #+ 0.7\n",
    "\n",
    "function inpond(course::GolfCourse, x)\n",
    "    return pond_x0(course) < x && x < pond_x1(course)\n",
    "end;"
   ]
  },
  {
   "cell_type": "markdown",
   "id": "e668b7c9-9ea6-43d5-8d68-c2a96aa723f8",
   "metadata": {},
   "source": [
    "## The simulation:\n",
    "\n",
    "Simple classical mechanics simulation with\n",
    "- initial velocity = `strike`\n",
    "- acceleration = `[drag + wind, gravity]`, where `drag = -0.1` and `gravity = -1`  \n",
    "\n",
    "The ball stays in pond if it hits the pond.  \n",
    "Otherwise, we allow the ball to bounce 3 times."
   ]
  },
  {
   "cell_type": "code",
   "execution_count": null,
   "id": "4ea5c4c5-05a4-4d6b-8ac8-83991ce4a680",
   "metadata": {
    "nbgrader": {
     "grade": false,
     "grade_id": "cell-68d7816282179808",
     "locked": true,
     "schema_version": 3,
     "solution": false,
     "task": false
    },
    "tags": []
   },
   "outputs": [],
   "source": [
    "function get_trajectory(golf_course::GolfCourse, start::Vector{Float64}, strike::Vector{Float}, wind::Float, dt::Float64=0.1) where Float <: Floats\n",
    "    position = start\n",
    "    trajectory::Vector{Vector{Float}} = Vector{Float}[position]\n",
    "    gravity = -1.\n",
    "    drag = -0.1\n",
    "    acceleration = Float[wind, gravity]\n",
    "    velocity = strike\n",
    "    end_x_position = 0.\n",
    "    bounce = 0\n",
    "    n_bounce = 2\n",
    "    \n",
    "    for i in 1:150 # upper bound on iterations\n",
    "        acceleration[1] = wind + drag * sign(velocity[1])\n",
    "        velocity = velocity + dt * acceleration\n",
    "        position = position + dt * velocity\n",
    "        if position[2] < 0.0\n",
    "            # compute intersection with x-axis\n",
    "            p = position\n",
    "            q = trajectory[end]\n",
    "            k = (q[1] - p[1]) / (q[2] - p[2])\n",
    "            inter_section_x = p[1] - k * p[2]\n",
    "            \n",
    "            if bounce < n_bounce && !inpond(golf_course, inter_section_x)\n",
    "                # if ball is not in pond, bounce\n",
    "                position[2] = -position[2]\n",
    "                velocity[1] = velocity[1] / 2.\n",
    "                velocity[2] = -velocity[2] / 2.\n",
    "                bounce += 1\n",
    "            else\n",
    "                # if ball is in pond or has bounced 3 times stop\n",
    "                end_x_position = inter_section_x\n",
    "                position[1] = inter_section_x\n",
    "                position[2] = 0.0\n",
    "            end\n",
    "        end\n",
    "        push!(trajectory, position)\n",
    "        \n",
    "        if position[2] == 0.\n",
    "            break\n",
    "        end\n",
    "    end\n",
    "    \n",
    "    if position[2] != 0.\n",
    "        _strike = ForwardDiff.value(strike)\n",
    "        _wind = ForwardDiff.value(wind)\n",
    "        _end_x_position = ForwardDiff.value(position[2])\n",
    "        @warn \"Simulation did not finish\" _strike _wind _end_x_position\n",
    "    end\n",
    "\n",
    "    return trajectory, end_x_position\n",
    "end;"
   ]
  },
  {
   "cell_type": "markdown",
   "id": "72156afc-04e1-467c-8f4c-adbf29481a84",
   "metadata": {},
   "source": [
    "Helper function which transforms `angle` and `power` to initial velocity vector."
   ]
  },
  {
   "cell_type": "code",
   "execution_count": null,
   "id": "ffbb915b-0c80-48ae-9685-3fe150bd733a",
   "metadata": {
    "tags": []
   },
   "outputs": [],
   "source": [
    "function get_strike(angle::Float, power::Float) where Float <: Floats\n",
    "    # angle in [0,pi/2]\n",
    "    # power in [0.25,1.]\n",
    "    r = (power - 0.5) * 2 # in [-0.5,1.]\n",
    "    p = r + 2.75\n",
    "    return [cos(angle) * p, sin(angle) * p]\n",
    "end"
   ]
  },
  {
   "cell_type": "code",
   "execution_count": null,
   "id": "7fc7bee0-bd85-4c25-bcb3-75aa6d9db650",
   "metadata": {
    "tags": []
   },
   "outputs": [],
   "source": [
    "course = GolfCourse(player_x=0., hole_x=8., pond_x=5.5)\n",
    "fig, ax = plot_golfcourse(course)\n",
    "trajectory, end_x_position = get_trajectory(course, [0.,0.], get_strike(deg2rad(30),0.6), 0.)\n",
    "#trajectory, end_x_position = get_trajectory(course, [0.,0.], get_strike(deg2rad(65),0.6), 0.)\n",
    "#trajectory, end_x_position = get_trajectory(course, [0.,0.], get_strike(deg2rad(60),0.9), 0.)\n",
    "#trajectory, end_x_position = get_trajectory(course, [0.,0.], get_strike(deg2rad(60),0.9), -0.1)\n",
    "trajectory = hcat(trajectory...)\n",
    "ax.scatter(trajectory[1,:], trajectory[2,:]);\n",
    "# ax.vlines([pond_x0(course),pond_x1(course)],-1,1)"
   ]
  },
  {
   "cell_type": "markdown",
   "id": "714b4b63-eee7-43e5-9205-2884b4b2ebdb",
   "metadata": {},
   "source": [
    "## Modelling the unknowns:\n",
    "\n",
    "- Golfer has `goal_angle` and `goal_power`\n",
    "- But depending on his `skill_level` he may deviate from the desired strike.\n",
    "- This is expressed by Normal distribution with deviations depending on the `skill_level`:\n",
    "```\n",
    "angle ~ Normal(goal_angle, angle_deviation)\n",
    "power ~ Normal(goal_power, power_deviation)\n",
    "```"
   ]
  },
  {
   "cell_type": "code",
   "execution_count": null,
   "id": "989db6b5-74cc-40d2-a871-07fb6af33f5e",
   "metadata": {
    "nbgrader": {
     "grade": false,
     "grade_id": "cell-3d91c68208a045a4",
     "locked": true,
     "schema_version": 3,
     "solution": false,
     "task": false
    },
    "tags": []
   },
   "outputs": [],
   "source": [
    "struct Golfer\n",
    "    skill_level::Int # (1,2,3)\n",
    "    function Golfer(;skill_level::Int)\n",
    "        return new(skill_level)\n",
    "    end\n",
    "end\n",
    "\n",
    "@model function strike(golfer::Golfer, goal_angle::Float, goal_power::Float) where Float <: Floats\n",
    "    @assert golfer.skill_level in (1,2,3)\n",
    "        \n",
    "    if golfer.skill_level == 1\n",
    "        angle_deviation = 0.05\n",
    "        power_deviation = 0.05\n",
    "    elseif golfer.skill_level == 2\n",
    "        angle_deviation = 0.0125\n",
    "        power_deviation = 0.0125\n",
    "    elseif golfer.skill_level == 3\n",
    "        angle_deviation = 0.00625\n",
    "        power_deviation = 0.00625\n",
    "    end\n",
    "    \n",
    "    angle ~ Normal(goal_angle, angle_deviation)\n",
    "    power ~ Normal(goal_power, power_deviation)\n",
    "    \n",
    "    return get_strike(angle, power)\n",
    "end;"
   ]
  },
  {
   "cell_type": "markdown",
   "id": "bbf9d7b1-b12a-4ad6-a2f4-4483540067aa",
   "metadata": {},
   "source": [
    "In the `play_golf` model, we simply wrap our physics simulation.\n",
    "- `goal_angle` can range from 0 to 85 degrees.\n",
    "- `goal_power` can range from 0.25 to 1.00 percent.\n",
    "- We instantiate a golfer with set `skill_level` and sample a strike.\n",
    "- The `wind` is also unknown.\n",
    "- We simulate the trajectory and record it's end position."
   ]
  },
  {
   "cell_type": "code",
   "execution_count": null,
   "id": "78bef7e6-bc18-4b63-9a9a-fe44fae942d4",
   "metadata": {
    "nbgrader": {
     "grade": false,
     "grade_id": "cell-bcd8aa3d8ebb841d",
     "locked": true,
     "schema_version": 3,
     "solution": false,
     "task": false
    },
    "tags": []
   },
   "outputs": [],
   "source": [
    "@model function play_golf(\n",
    "        course::GolfCourse,\n",
    "        golfer::Golfer;\n",
    "        goal_angle=missing,\n",
    "        goal_power=missing,\n",
    "        end_position=missing,\n",
    "        inverse_problem=false\n",
    "    )\n",
    "    \n",
    "    goal_angle ~ Uniform(deg2rad(5), deg2rad(85))\n",
    "    goal_power ~ Uniform(0.25, 1.0)\n",
    "\n",
    "    @submodel golfer_strike = strike(golfer, goal_angle, goal_power)\n",
    "\n",
    "    wind ~ Normal(0., 0.015)\n",
    "    _, end_x_position = get_trajectory(course, Float64[course.player_x,0.], golfer_strike, wind)\n",
    "    \n",
    "\n",
    "    if inverse_problem\n",
    "        # hitting the golf holf perfectly has probability 0.\n",
    "        # we have to allow some margin 0.1\n",
    "        end_position ~ Normal(end_x_position, 0.1)\n",
    "    else\n",
    "        # just for tracking the end position\n",
    "        end_position ~ Dirac(end_x_position)\n",
    "    end\n",
    "\n",
    "    return end_x_position\n",
    "end;"
   ]
  },
  {
   "cell_type": "markdown",
   "id": "f6966e8e-7398-4133-95c5-db88ec22ef5d",
   "metadata": {
    "nbgrader": {
     "grade": false,
     "grade_id": "cell-9e1ee92d43242417",
     "locked": true,
     "schema_version": 3,
     "solution": false,
     "task": false
    },
    "tags": []
   },
   "source": [
    "To get a feel for the model, we will sample from the prior distribution."
   ]
  },
  {
   "cell_type": "code",
   "execution_count": null,
   "id": "f0a23449-986f-4e29-b82e-e10dee99b7b8",
   "metadata": {
    "tags": []
   },
   "outputs": [],
   "source": [
    "model = play_golf(course,\n",
    "    Golfer(skill_level=3);        # in [1,2,3]\n",
    "    goal_angle    = deg2rad(55),  # in [5,85]\n",
    "    goal_power    = 0.7,          # in [0.25,1.0]\n",
    ")\n",
    "traces = sample(model, Prior(), 1_000);\n",
    "plot_traces(course, traces);"
   ]
  },
  {
   "cell_type": "markdown",
   "id": "70f64102-56f3-4de3-8ec2-6ee3c24557c0",
   "metadata": {},
   "source": [
    "## Inverting the Model:\n",
    "\n",
    "Up until now we simply generated random golf strikes.\n",
    "\n",
    "But we can also use probabilistic programming to infer unkown values.\n",
    "\n",
    "In fact, we can use probabilistic programming to answer following question:\n",
    "\n",
    "### GIVEN that we hit the golf hole, what are angle and power?"
   ]
  },
  {
   "cell_type": "code",
   "execution_count": null,
   "id": "d7111746-0f64-44a6-9470-d5eb01ff3905",
   "metadata": {
    "nbgrader": {
     "grade": false,
     "grade_id": "cell-20fe7adb0c824f3d",
     "locked": true,
     "schema_version": 3,
     "solution": false,
     "task": false
    },
    "tags": []
   },
   "outputs": [],
   "source": [
    "inverse_model = play_golf(course,\n",
    "    Golfer(skill_level=3);\n",
    "    end_position    = course.hole_x,\n",
    "    inverse_problem = true\n",
    ");"
   ]
  },
  {
   "cell_type": "code",
   "execution_count": null,
   "id": "7d232796-c6e2-45f9-8959-96e90d8e13df",
   "metadata": {
    "nbgrader": {
     "grade": false,
     "grade_id": "cell-c58b68f3d37523e0",
     "locked": true,
     "schema_version": 3,
     "solution": false,
     "task": false
    },
    "tags": []
   },
   "outputs": [],
   "source": [
    "Turing.Random.seed!(0)\n",
    "result_IS = sample(inverse_model, IS(), 500_000);\n",
    "weights = exp.(normalise(vec(result_IS[\"lp\"])));"
   ]
  },
  {
   "cell_type": "markdown",
   "id": "925b35fd-0f3b-44ea-8b0f-5971270db85f",
   "metadata": {},
   "source": [
    "Visualising the results allows us to interpret the joint posterior distribution of angle and power.\n",
    "\n",
    "That means we do not only get one solution, but an entire distribution over angle and power that works well."
   ]
  },
  {
   "cell_type": "code",
   "execution_count": null,
   "id": "99a90853-e725-4b5b-b809-d3409e06ba68",
   "metadata": {
    "nbgrader": {
     "grade": false,
     "grade_id": "cell-a45427cbab425ec5",
     "locked": true,
     "schema_version": 3,
     "solution": false,
     "task": false
    },
    "tags": []
   },
   "outputs": [],
   "source": [
    "goal_angle = rad2deg.(vec(result_IS[\"goal_angle\"]))\n",
    "goal_power = vec(result_IS[\"goal_power\"])\n",
    "plt.hexbin(goal_angle, goal_power, C=weights, reduce_C_function=np.sum, gridsize=50);\n",
    "plt.xlabel(\"angle\"); plt.ylabel(\"power\");"
   ]
  },
  {
   "cell_type": "markdown",
   "id": "228297b0-34fa-42d7-9094-d1ac09c7e6d8",
   "metadata": {},
   "source": [
    "We can also visualise the trajectories that belong to these solution values."
   ]
  },
  {
   "cell_type": "code",
   "execution_count": null,
   "id": "99b9c2be-0cbe-49c1-a30f-143c46dd00f0",
   "metadata": {
    "tags": []
   },
   "outputs": [],
   "source": [
    "Turing.Random.seed!(0)\n",
    "ixs = rand(Categorical(weights),1000)\n",
    "plot_traces(course, result_IS[ixs]);"
   ]
  },
  {
   "cell_type": "markdown",
   "id": "f6930228-249b-4a25-aef4-e7396c39bb78",
   "metadata": {},
   "source": [
    "Maybe it is also interesting to see, which are the angle and power values that are the most likely to hit the goal."
   ]
  },
  {
   "cell_type": "code",
   "execution_count": null,
   "id": "11f76d73-f907-4d40-82da-8a458fdc63ad",
   "metadata": {
    "tags": []
   },
   "outputs": [],
   "source": [
    "# Estimates the MAP by finding the highest weighted bin of the posterior histogram.\n",
    "counts, x, y = np.histogram2d(goal_angle, goal_power, weights=weights, bins=100)\n",
    "i, j = Tuple(argmax(counts))\n",
    "map_angle = 0.5 * (x[i+1] + x[i])\n",
    "map_power = 0.5 * (y[j+1] + y[j])\n",
    "map_angle, map_power"
   ]
  },
  {
   "cell_type": "code",
   "execution_count": null,
   "id": "69b080d0-1afa-4cd4-b3f2-4795269a644a",
   "metadata": {
    "tags": []
   },
   "outputs": [],
   "source": [
    "Turing.Random.seed!(0)\n",
    "model = play_golf(course,\n",
    "    Golfer(skill_level=3);\n",
    "    goal_angle    = deg2rad(map_angle),\n",
    "    goal_power    = map_power,\n",
    ")\n",
    "traces_1 = sample(model, Prior(), 10000)\n",
    "plot_traces(course, traces_1[1:1000]);"
   ]
  },
  {
   "cell_type": "markdown",
   "id": "15315c82-eca0-4d3f-a162-be1f9320efa8",
   "metadata": {},
   "source": [
    "Results look fine so far, but we always assume that we have professional golfer with `skill_level = 3`.\n",
    "\n",
    "### What happens if we let a less experienced golfer give it a shot?"
   ]
  },
  {
   "cell_type": "code",
   "execution_count": null,
   "id": "467185e5-c5bc-4b6c-ba2d-b58c1b94d302",
   "metadata": {
    "tags": []
   },
   "outputs": [],
   "source": [
    "Turing.Random.seed!(0)\n",
    "model = play_golf(course,\n",
    "    Golfer(skill_level=1);\n",
    "    goal_angle    = deg2rad(map_angle),\n",
    "    goal_power    = map_power,\n",
    ")\n",
    "traces_3 = sample(model, Prior(), 10000)\n",
    "plot_traces(course, traces_3[1:1000]);"
   ]
  },
  {
   "cell_type": "markdown",
   "id": "4ba22b33-b065-48a8-ade0-0b712537f590",
   "metadata": {},
   "source": [
    "#### What is the probability of hitting the pond?"
   ]
  },
  {
   "cell_type": "code",
   "execution_count": null,
   "id": "3cfbfc17-6882-4820-a229-87a06e3ca74f",
   "metadata": {
    "tags": []
   },
   "outputs": [],
   "source": [
    "mean(map(x -> inpond(course, x), vec(traces_3[:end_position])))"
   ]
  },
  {
   "cell_type": "code",
   "execution_count": null,
   "id": "cc8d0b56-71f9-42c8-bb43-1b42e44f64f9",
   "metadata": {},
   "outputs": [],
   "source": [
    "Turing.Random.seed!(0)\n",
    "model = play_golf(course,\n",
    "    Golfer(skill_level=2);\n",
    "    goal_angle    = deg2rad(map_angle),\n",
    "    goal_power    = map_power\n",
    ")\n",
    "traces_2 = sample(model, Prior(), 10000)\n",
    "plot_traces(course, traces_2[1:1000]);"
   ]
  },
  {
   "cell_type": "code",
   "execution_count": null,
   "id": "5eaa455e-4d66-4921-a59e-5c582f7a332e",
   "metadata": {},
   "outputs": [],
   "source": [
    "println(\"Prob. of hitting pond skill_level = 3: \", mean(map(x -> inpond(course, x), vec(traces_3[:end_position]))))\n",
    "println(\"Prob. of hitting pond skill_level = 2: \", mean(map(x -> inpond(course, x), vec(traces_2[:end_position]))))\n",
    "println(\"Prob. of hitting pond skill_level = 1: \", mean(map(x -> inpond(course, x), vec(traces_1[:end_position]))))"
   ]
  },
  {
   "cell_type": "markdown",
   "id": "01300d24-055d-4b4e-b187-fc1539621344",
   "metadata": {},
   "source": [
    "### Golfer with skill level 2, seems to be good choice, but we observe bad trajectory!?"
   ]
  },
  {
   "cell_type": "code",
   "execution_count": null,
   "id": "b9afccbb-0306-4bdd-94f3-b4de1802b685",
   "metadata": {
    "tags": []
   },
   "outputs": [],
   "source": [
    "observed_trajectory = get_observed_trajectory(course)\n",
    "fig, ax = plot_golfcourse(course)\n",
    "ax.plot(observed_trajectory[1,:], observed_trajectory[2,:]);"
   ]
  },
  {
   "cell_type": "markdown",
   "id": "fb04e383-b5f1-4507-b853-c0a8db4e2804",
   "metadata": {},
   "source": [
    "### GIVEN that we aim for best angle and power and GIVEN that we miss the target, what happened?"
   ]
  },
  {
   "cell_type": "code",
   "execution_count": null,
   "id": "4f9ecc16-b990-4efb-8062-d43eb07f4796",
   "metadata": {
    "tags": []
   },
   "outputs": [],
   "source": [
    "Turing.Random.seed!(0)\n",
    "model = play_golf(course,\n",
    "    Golfer(skill_level=2);\n",
    "    goal_angle    = deg2rad(map_angle),\n",
    "    goal_power    = map_power,\n",
    "    end_position    = 9.,\n",
    "    inverse_problem = true\n",
    ")\n",
    "result = sample(model, IS(), 100000);\n",
    "weights = exp.(normalise(vec(result[\"lp\"])));"
   ]
  },
  {
   "cell_type": "code",
   "execution_count": null,
   "id": "e1a13ccc-c793-4285-b82f-6e8662dd5d64",
   "metadata": {
    "tags": []
   },
   "outputs": [],
   "source": [
    "# Turing.Random.seed!(0)\n",
    "# ixs = rand(Categorical(weights),1000);\n",
    "# plot_traces(course, result[ixs]);"
   ]
  },
  {
   "cell_type": "code",
   "execution_count": null,
   "id": "e2a7a541-6a77-4c35-be85-452c808da8a6",
   "metadata": {
    "tags": []
   },
   "outputs": [],
   "source": [
    "fig, axs = plt.subplots(1,3,figsize=(15,5))\n",
    "axs[1].hist(vec(result[\"power\"]), weights=weights, bins=25, label=\"simulated power\");\n",
    "axs[1].vlines([map_power], 0, 0.5, color=\"tab:orange\", label=\"goal power\")\n",
    "axs[1].legend();\n",
    "axs[2].hist(rad2deg.(vec(result[\"angle\"])), weights=weights, bins=25, label=\"simulated angle\");\n",
    "axs[2].vlines([map_angle], 0, 0.5, color=\"tab:orange\", label=\"goal angle\")\n",
    "axs[2].legend();\n",
    "axs[3].hist(vec(result[\"wind\"]), weights=weights, bins=25, label=\"simulated wind\");\n",
    "axs[3].vlines([0.], 0, 0.5, color=\"tab:orange\", label=\"expected wind\")\n",
    "axs[3].legend();"
   ]
  },
  {
   "cell_type": "markdown",
   "id": "13bb53f2-2e2a-425b-9c71-fd177f98c300",
   "metadata": {
    "nbgrader": {
     "grade": false,
     "grade_id": "cell-7eae0acfe6bba39e",
     "locked": true,
     "schema_version": 3,
     "solution": false,
     "task": false
    },
    "tags": []
   },
   "source": [
    "## Gradient-Based Methods\n",
    "\n",
    "Since the simulation is differentiable with respect to angle and power,  \n",
    "we can use more sophisticated inference algorithms that leverage automatic differentiation."
   ]
  },
  {
   "cell_type": "code",
   "execution_count": null,
   "id": "9f5dc533-970f-49e8-9d1d-bec265c3d2ac",
   "metadata": {
    "tags": []
   },
   "outputs": [],
   "source": [
    "vi = Turing.VarInfo(inverse_model);\n",
    "keys(vi.metadata)"
   ]
  },
  {
   "cell_type": "code",
   "execution_count": null,
   "id": "ed676b45-ba29-4b80-a2da-29a6cae5be3a",
   "metadata": {
    "tags": []
   },
   "outputs": [],
   "source": [
    "initial_params = [deg2rad(map_angle),map_power,deg2rad(map_angle),map_power,0.1];"
   ]
  },
  {
   "cell_type": "code",
   "execution_count": null,
   "id": "3c7aef37-390d-4d5e-bff3-e758c5413420",
   "metadata": {
    "tags": []
   },
   "outputs": [],
   "source": [
    "inverse_model = play_golf(course,\n",
    "    Golfer(skill_level=2);\n",
    "    end_position    = course.hole_x,\n",
    "    inverse_problem = true\n",
    ");\n",
    "\n",
    "Turing.Random.seed!(0)\n",
    "result_HMC = sample(inverse_model, HMC(0.003,15), 100_000, initial_params=initial_params);"
   ]
  },
  {
   "cell_type": "code",
   "execution_count": null,
   "id": "822570d5-0135-43dd-8329-0d64d93376d5",
   "metadata": {
    "tags": []
   },
   "outputs": [],
   "source": [
    "function plot_HMC_result(result_HMC)\n",
    "    fig, axs = plt.subplots(1,2,figsize=(12,4))\n",
    "\n",
    "    goal_angle_IS = rad2deg.(vec(result_IS[\"goal_angle\"]))\n",
    "    goal_power_IS = vec(result_IS[\"goal_power\"])\n",
    "    weights = exp.(normalise(vec(result_IS[\"lp\"])));\n",
    "    axs[1].hexbin(goal_angle_IS, goal_power_IS, C=weights, reduce_C_function=np.sum, gridsize=50);\n",
    "    axs[1].set_xlabel(\"angle\"); axs[1].set_ylabel(\"power\");\n",
    "    axs[1].set_ylim((0.25,1.)); axs[1].set_xlim((5, 85))\n",
    "\n",
    "    goal_angle_HMC = rad2deg.(vec(result_HMC[\"goal_angle\"].data))\n",
    "    goal_power_HMC = vec(result_HMC[\"goal_power\"].data);\n",
    "\n",
    "    axs[2].hexbin(goal_angle_HMC, goal_power_HMC, gridsize=50);\n",
    "    axs[2].set_ylim((0.25,1.)); axs[2].set_xlim((5, 85))\n",
    "    axs[2].set_xlabel(\"angle\"); axs[2].set_ylabel(\"power\");\n",
    "end\n",
    "plot_HMC_result(result_HMC);"
   ]
  },
  {
   "cell_type": "code",
   "execution_count": null,
   "id": "a6213bce-2053-4f93-9c33-00a06f91ec3d",
   "metadata": {
    "tags": []
   },
   "outputs": [],
   "source": [
    "@time begin\n",
    "    Turing.Random.seed!(0)\n",
    "    nchains = Threads.nthreads()\n",
    "    result_HMC_2 = sample(inverse_model, HMC(0.003,15), MCMCThreads(), 25_000, nchains, initial_params=[copy(initial_params) for _ in 1:nchains]);\n",
    "end;"
   ]
  },
  {
   "cell_type": "code",
   "execution_count": null,
   "id": "5c0cf1aa-9c01-4493-8fa5-fad3b2b6d585",
   "metadata": {},
   "outputs": [],
   "source": [
    "plot_HMC_result(result_HMC_2);"
   ]
  },
  {
   "cell_type": "code",
   "execution_count": null,
   "id": "76b599b2-c490-43a5-aa88-80feee4f5ff6",
   "metadata": {},
   "outputs": [],
   "source": []
  }
 ],
 "metadata": {
  "kernelspec": {
   "display_name": "Julia 1.9.1 (8 threads)",
   "language": "julia",
   "name": "julia-1.9_8-threads"
  },
  "language_info": {
   "file_extension": ".jl",
   "mimetype": "application/julia",
   "name": "julia",
   "version": "1.9.1"
  }
 },
 "nbformat": 4,
 "nbformat_minor": 5
}
